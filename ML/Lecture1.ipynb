{
  "nbformat": 4,
  "nbformat_minor": 0,
  "metadata": {
    "colab": {
      "provenance": [],
      "authorship_tag": "ABX9TyOuIYsbMYwxVlDB/xWySxZw"
    },
    "kernelspec": {
      "name": "python3",
      "display_name": "Python 3"
    },
    "language_info": {
      "name": "python"
    }
  },
  "cells": [
    {
      "cell_type": "markdown",
      "source": [
        "# **What is NumPy?**\n",
        "\n",
        "NumPy is a Python library used for working with arrays.\n",
        "\n",
        "NumPy was created in 2005 by Travis Oliphant. It is an open source project and you can use it freely.\n",
        "\n",
        "NumPy stands for Numerical Python.\n",
        "\n"
      ],
      "metadata": {
        "id": "tzLgEfIPhiSn"
      }
    },
    {
      "cell_type": "markdown",
      "source": [
        "# **Why Use NumPy?**\n",
        "\n",
        "In Python we have lists that serve the purpose of arrays, but they are slow to process.\n",
        "\n",
        "NumPy aims to provide an array object that is up to 50x faster than traditional Python lists.\n",
        "\n",
        "The array object in NumPy is called ndarray, it provides a lot of supporting functions that make working with ndarray very easy.\n",
        "\n",
        "**Arrays are very frequently used in data science, where speed and resources are very important.**"
      ],
      "metadata": {
        "id": "zN7ZWpyMjZql"
      }
    },
    {
      "cell_type": "markdown",
      "source": [
        "# **Why is NumPy Faster Than Lists?**\n",
        "\n",
        "NumPy is faster than lists because it is designed to efficiently process large arrays and matrices of numerical data. NumPy is implemented in C and uses contiguous blocks of memory, which makes it faster to perform mathematical operations on arrays because it avoids the overhead of type-checking and other operations that can slow down Python lists. Additionally, NumPy has built-in functions for common mathematical operations, such as dot products and linear algebra operations, which are optimized for performance. In contrast, Python lists are not designed for numerical computations and are slower because they are implemented in Python, which is an interpreted language that requires more time to execute each statement."
      ],
      "metadata": {
        "id": "NlDSRYuDkalF"
      }
    },
    {
      "cell_type": "markdown",
      "source": [
        "Lets get started......."
      ],
      "metadata": {
        "id": "gJQasRst43JT"
      }
    },
    {
      "cell_type": "code",
      "execution_count": 60,
      "metadata": {
        "id": "G8gxS8wUhf1Y"
      },
      "outputs": [],
      "source": [
        "import numpy "
      ]
    },
    {
      "cell_type": "markdown",
      "source": [
        "You can use NumPy now that it has been imported.\n",
        "\n",
        "\n"
      ],
      "metadata": {
        "id": "4SGcvLju5CuC"
      }
    },
    {
      "cell_type": "code",
      "source": [
        "arr = numpy.array([1, 2, 3, 4, 5])\n",
        "print(arr)"
      ],
      "metadata": {
        "colab": {
          "base_uri": "https://localhost:8080/"
        },
        "id": "H92Gmrtu47xD",
        "outputId": "ce3e16b6-63f8-4337-e7de-8ce830eca41a"
      },
      "execution_count": 61,
      "outputs": [
        {
          "output_type": "stream",
          "name": "stdout",
          "text": [
            "[1 2 3 4 5]\n"
          ]
        }
      ]
    },
    {
      "cell_type": "markdown",
      "source": [
        "Create an alias with the **as** keyword while importing:\n",
        "\n",
        "**alias**: In Python alias are an alternate name for referring to the same thing."
      ],
      "metadata": {
        "id": "9rMPOvQe5osq"
      }
    },
    {
      "cell_type": "code",
      "source": [
        "import numpy as np\n",
        "\n",
        "arr = np.array([1, 2, 3, 4, 5])\n",
        "\n",
        "print(arr)"
      ],
      "metadata": {
        "colab": {
          "base_uri": "https://localhost:8080/"
        },
        "id": "rX_nuHSO5Y_K",
        "outputId": "95cc6b26-d55a-45be-f1e2-269c04579523"
      },
      "execution_count": null,
      "outputs": [
        {
          "output_type": "stream",
          "name": "stdout",
          "text": [
            "[1 2 3 4 5]\n"
          ]
        }
      ]
    },
    {
      "cell_type": "code",
      "source": [
        "print(np.__version__)"
      ],
      "metadata": {
        "colab": {
          "base_uri": "https://localhost:8080/"
        },
        "id": "4VSYUKlX5NKz",
        "outputId": "bc64d7f4-ea82-43f4-d645-00e8fa82ec84"
      },
      "execution_count": null,
      "outputs": [
        {
          "output_type": "stream",
          "name": "stdout",
          "text": [
            "1.22.4\n"
          ]
        }
      ]
    },
    {
      "cell_type": "markdown",
      "source": [
        "# **Create a NumPy ndarray Object**"
      ],
      "metadata": {
        "id": "vHCj6n6b6etK"
      }
    },
    {
      "cell_type": "markdown",
      "source": [
        "NumPy is used to work with arrays. The array object in NumPy is called ndarray.\n",
        "\n",
        "***Note*** : \"nd\" stands for \"n-dimensional\" in ndarray. It refers to the fact that ndarray is capable of representing arrays with any number of dimensions (or axes). For example, a 1-dimensional array is a vector, a 2-dimensional array is a matrix, and an array with three or more dimensions is a tensor."
      ],
      "metadata": {
        "id": "YR0DyAez6jBK"
      }
    },
    {
      "cell_type": "markdown",
      "source": [
        "To create a NumPy ndarray object, we can utilize the array() function."
      ],
      "metadata": {
        "id": "k_TNHNZv7YMT"
      }
    },
    {
      "cell_type": "code",
      "source": [
        "arr = np.array([1, 2, 3, 4, 5])"
      ],
      "metadata": {
        "id": "_vn7VZUQ5Tdz"
      },
      "execution_count": null,
      "outputs": []
    },
    {
      "cell_type": "code",
      "source": [
        "type(arr)"
      ],
      "metadata": {
        "colab": {
          "base_uri": "https://localhost:8080/"
        },
        "id": "ZA2uqKP27d5t",
        "outputId": "a84bbdfa-c97c-40fa-9b44-bb96724f641b"
      },
      "execution_count": null,
      "outputs": [
        {
          "output_type": "execute_result",
          "data": {
            "text/plain": [
              "numpy.ndarray"
            ]
          },
          "metadata": {},
          "execution_count": 8
        }
      ]
    },
    {
      "cell_type": "markdown",
      "source": [
        "**type()** is a built-in Python function that allows us to determine the type of an object that is passed as its argument. In the context of the code above, it shows that the variable arr is of type numpy.ndarray."
      ],
      "metadata": {
        "id": "psamYelo7k-a"
      }
    },
    {
      "cell_type": "markdown",
      "source": [
        "Use a tuple to create a NumPy array:"
      ],
      "metadata": {
        "id": "Zm-5VAPy9WoS"
      }
    },
    {
      "cell_type": "code",
      "source": [
        "a = np.array((1, 2, 3, 4, 5))\n",
        "a"
      ],
      "metadata": {
        "colab": {
          "base_uri": "https://localhost:8080/"
        },
        "id": "Kv7-Nl7R7gNi",
        "outputId": "526348e9-68bc-4aca-f9db-9d3f51d73578"
      },
      "execution_count": null,
      "outputs": [
        {
          "output_type": "execute_result",
          "data": {
            "text/plain": [
              "array([1, 2, 3, 4, 5])"
            ]
          },
          "metadata": {},
          "execution_count": 9
        }
      ]
    },
    {
      "cell_type": "markdown",
      "source": [
        "*Difference Between Tuple and array*\n",
        "\n",
        "\n",
        "\n",
        "2.  Type: A tuple can hold different types of data such as strings, integers, and other tuples. An array can only hold a single type of data such as integers, floats, or booleans.\n",
        "\n",
        "3.  Size: Tuples are usually used for smaller collections of data, while arrays are used for larger collections of data.\n",
        "\n",
        "\n",
        "\n",
        "4.   Memory allocation: In most programming languages, tuples are stored in a contiguous block of memory, whereas arrays may be stored in a non-contiguous block of memory.\n",
        "\n",
        "\n",
        "5.   Usage: Tuples are commonly used for data that won't change, such as coordinates, while arrays are commonly used for storing and manipulating large amounts of data, such as matrices or data sets."
      ],
      "metadata": {
        "id": "WTsBwK209Yz6"
      }
    },
    {
      "cell_type": "markdown",
      "source": [
        "## **Dimensions in Arrays**"
      ],
      "metadata": {
        "id": "UXyXfS5Q_DHh"
      }
    },
    {
      "cell_type": "markdown",
      "source": [
        "A dimension in arrays is one level of array depth (nested arrays).\n",
        "\n",
        "**nested array :** are arrays that have arrays as their elements."
      ],
      "metadata": {
        "id": "-buejG39_HNJ"
      }
    },
    {
      "cell_type": "markdown",
      "source": [
        "# 0-D Arrays"
      ],
      "metadata": {
        "id": "oIzjrCdI_V0J"
      }
    },
    {
      "cell_type": "markdown",
      "source": [
        "0-D arrays, or Scalars, are the elements in an array. Each value in an array is a 0-D array."
      ],
      "metadata": {
        "id": "yRpBrKj5_hbw"
      }
    },
    {
      "cell_type": "code",
      "source": [
        "arr = np.array(42)\n",
        "arr"
      ],
      "metadata": {
        "colab": {
          "base_uri": "https://localhost:8080/"
        },
        "id": "5pxBk6ej-EWy",
        "outputId": "573f8872-ab69-4929-ce24-de2b91543cb1"
      },
      "execution_count": null,
      "outputs": [
        {
          "output_type": "execute_result",
          "data": {
            "text/plain": [
              "array(42)"
            ]
          },
          "metadata": {},
          "execution_count": 10
        }
      ]
    },
    {
      "cell_type": "markdown",
      "source": [
        "# 1-D Arrays"
      ],
      "metadata": {
        "id": "-cOGtIAt_q5x"
      }
    },
    {
      "cell_type": "markdown",
      "source": [
        "An array that has 0-D arrays as its elements is called uni-dimensional or 1-D array.\n",
        "\n",
        "These are the most common and basic arrays."
      ],
      "metadata": {
        "id": "jxBarB_a_slB"
      }
    },
    {
      "cell_type": "code",
      "source": [
        "arr = np.array([1, 2, 3, 4, 5])\n",
        "\n",
        "arr"
      ],
      "metadata": {
        "colab": {
          "base_uri": "https://localhost:8080/"
        },
        "id": "kUz-xZei_kSx",
        "outputId": "07792377-e74a-4977-83e1-1e99baf6193a"
      },
      "execution_count": null,
      "outputs": [
        {
          "output_type": "execute_result",
          "data": {
            "text/plain": [
              "array([1, 2, 3, 4, 5])"
            ]
          },
          "metadata": {},
          "execution_count": 11
        }
      ]
    },
    {
      "cell_type": "markdown",
      "source": [
        "# 2-D Arrays"
      ],
      "metadata": {
        "id": "rIIGC8ea_3FK"
      }
    },
    {
      "cell_type": "markdown",
      "source": [
        "An array that has 1-D arrays as its elements is called a 2-D array.\n",
        "\n",
        "These are often used to represent matrix or 2nd order tensors."
      ],
      "metadata": {
        "id": "455saVaU_5qh"
      }
    },
    {
      "cell_type": "code",
      "source": [
        "arr = np.array([[1, 2, 3], [4, 5, 6]])\n",
        "arr"
      ],
      "metadata": {
        "colab": {
          "base_uri": "https://localhost:8080/"
        },
        "id": "zkFIP7D-_1Mp",
        "outputId": "95f31757-da35-4e0a-f344-5404e7994ee8"
      },
      "execution_count": null,
      "outputs": [
        {
          "output_type": "execute_result",
          "data": {
            "text/plain": [
              "array([[1, 2, 3],\n",
              "       [4, 5, 6]])"
            ]
          },
          "metadata": {},
          "execution_count": 12
        }
      ]
    },
    {
      "cell_type": "markdown",
      "source": [
        "# 3-D arrays"
      ],
      "metadata": {
        "id": "YPNPBBdjAGPC"
      }
    },
    {
      "cell_type": "markdown",
      "source": [
        "An array that has 2-D arrays (matrices) as its elements is called 3-D array.\n",
        "\n",
        "These are often used to represent a 3rd order tensor."
      ],
      "metadata": {
        "id": "s5imcIOLAHXR"
      }
    },
    {
      "cell_type": "code",
      "source": [
        "arr = np.array([[[1, 2, 3], [4, 5, 6]], [[1, 2, 3], [4, 5, 6]]])\n",
        "arr"
      ],
      "metadata": {
        "colab": {
          "base_uri": "https://localhost:8080/"
        },
        "id": "owD6N58YADCq",
        "outputId": "dd42f828-f991-4acc-c568-f5249ac71738"
      },
      "execution_count": null,
      "outputs": [
        {
          "output_type": "execute_result",
          "data": {
            "text/plain": [
              "array([[[1, 2, 3],\n",
              "        [4, 5, 6]],\n",
              "\n",
              "       [[1, 2, 3],\n",
              "        [4, 5, 6]]])"
            ]
          },
          "metadata": {},
          "execution_count": 13
        }
      ]
    },
    {
      "cell_type": "markdown",
      "source": [
        "# **How to check Number of Dimensions?**"
      ],
      "metadata": {
        "id": "QWTlekmmAUGZ"
      }
    },
    {
      "cell_type": "markdown",
      "source": [
        "NumPy Arrays provides the ndim attribute that returns an integer that tells us how many dimensions the array have."
      ],
      "metadata": {
        "id": "jDqdCUgdJ5K-"
      }
    },
    {
      "cell_type": "code",
      "source": [
        "a = np.array(42)\n",
        "b = np.array([1, 2, 3, 4, 5])\n",
        "c = np.array([[1, 2, 3], [4, 5, 6]])\n",
        "d = np.array([[[1, 2, 3]]])\n",
        "\n",
        "\n",
        "\n",
        "d.ndim\n"
      ],
      "metadata": {
        "colab": {
          "base_uri": "https://localhost:8080/"
        },
        "id": "W-dmfzs9AODR",
        "outputId": "256bf993-fa92-45ef-ff64-99fc68069b2c"
      },
      "execution_count": 67,
      "outputs": [
        {
          "output_type": "execute_result",
          "data": {
            "text/plain": [
              "3"
            ]
          },
          "metadata": {},
          "execution_count": 67
        }
      ]
    },
    {
      "cell_type": "markdown",
      "source": [
        "An array can have any number of dimensions.\n",
        "\n",
        "When the array is created, you can define the number of dimensions by using the ndmin argument."
      ],
      "metadata": {
        "id": "vlsBm5uQKWFR"
      }
    },
    {
      "cell_type": "code",
      "source": [
        "arr = np.array([1, 2, 3, 4], ndmin=3)\n",
        "\n",
        "print(arr)\n",
        "print('number of dimensions :', arr.ndim)"
      ],
      "metadata": {
        "colab": {
          "base_uri": "https://localhost:8080/"
        },
        "id": "-9onRW46KGRj",
        "outputId": "736d39f8-ad15-41ff-db85-08a975bf13b9"
      },
      "execution_count": 66,
      "outputs": [
        {
          "output_type": "stream",
          "name": "stdout",
          "text": [
            "[[[1 2 3 4]]]\n",
            "number of dimensions : 3\n"
          ]
        }
      ]
    },
    {
      "cell_type": "markdown",
      "source": [
        "# **NumPy Array Indexing**"
      ],
      "metadata": {
        "id": "v1bZ9U-rKn7S"
      }
    },
    {
      "cell_type": "markdown",
      "source": [
        "# Access Array Elements"
      ],
      "metadata": {
        "id": "zl-QSUX-Kq-v"
      }
    },
    {
      "cell_type": "markdown",
      "source": [
        "Array indexing is the same as accessing an array element.\n",
        "\n",
        "You can access an array element by referring to its index number.\n",
        "\n",
        "The indexes in NumPy arrays start with 0, meaning that the first element has index 0, and the second has index 1 etc."
      ],
      "metadata": {
        "id": "GA-fTsqlNU0-"
      }
    },
    {
      "cell_type": "code",
      "source": [
        "arr = np.array([1, 2, 3, 4])\n",
        "arr[0]"
      ],
      "metadata": {
        "colab": {
          "base_uri": "https://localhost:8080/"
        },
        "id": "AYxDW6sZNUYB",
        "outputId": "ff05d5f5-e4dc-4076-89a4-822fe2f4bd48"
      },
      "execution_count": null,
      "outputs": [
        {
          "output_type": "execute_result",
          "data": {
            "text/plain": [
              "1"
            ]
          },
          "metadata": {},
          "execution_count": 16
        }
      ]
    },
    {
      "cell_type": "code",
      "source": [
        "arr[1]"
      ],
      "metadata": {
        "colab": {
          "base_uri": "https://localhost:8080/"
        },
        "id": "mcY2UQgtKqun",
        "outputId": "ca02ddab-7d35-4a75-d7bd-9a93971df03f"
      },
      "execution_count": null,
      "outputs": [
        {
          "output_type": "execute_result",
          "data": {
            "text/plain": [
              "2"
            ]
          },
          "metadata": {},
          "execution_count": 17
        }
      ]
    },
    {
      "cell_type": "code",
      "source": [
        "arr[2]+arr[3]"
      ],
      "metadata": {
        "colab": {
          "base_uri": "https://localhost:8080/"
        },
        "id": "Wdx8RdoZKZAg",
        "outputId": "56140254-aaea-49df-dad4-08b8e29d4e74"
      },
      "execution_count": null,
      "outputs": [
        {
          "output_type": "execute_result",
          "data": {
            "text/plain": [
              "7"
            ]
          },
          "metadata": {},
          "execution_count": 18
        }
      ]
    },
    {
      "cell_type": "markdown",
      "source": [
        "# Access 2-D Arrays"
      ],
      "metadata": {
        "id": "tZWi6vFZORG3"
      }
    },
    {
      "cell_type": "markdown",
      "source": [
        "To access elements from 2-D arrays we can use comma separated integers representing the dimension and the index of the element.\n",
        "\n",
        "Think of 2-D arrays like a table with rows and columns, where the dimension represents the row and the index represents the column."
      ],
      "metadata": {
        "id": "WK2Av_kcOXMm"
      }
    },
    {
      "cell_type": "code",
      "source": [
        "arr = np.array([[1,2,3,4,5], [6,7,8,9,10]])\n",
        "\n",
        "print('2nd element on 1st row: ', arr[0, 1])"
      ],
      "metadata": {
        "colab": {
          "base_uri": "https://localhost:8080/"
        },
        "id": "Iwcc_yBAOQqG",
        "outputId": "55a43cff-08e7-4b96-f0ba-c8dfea4f4bcf"
      },
      "execution_count": null,
      "outputs": [
        {
          "output_type": "stream",
          "name": "stdout",
          "text": [
            "2nd element on 1st row:  2\n"
          ]
        }
      ]
    },
    {
      "cell_type": "code",
      "source": [
        "print('5th element on 2nd row: ', arr[1, 4])"
      ],
      "metadata": {
        "colab": {
          "base_uri": "https://localhost:8080/"
        },
        "id": "O6NueX0FON3H",
        "outputId": "a1d95068-bc82-4bab-9928-e871b86bd836"
      },
      "execution_count": null,
      "outputs": [
        {
          "output_type": "stream",
          "name": "stdout",
          "text": [
            "5th element on 2nd row:  10\n"
          ]
        }
      ]
    },
    {
      "cell_type": "markdown",
      "source": [
        "# Access 3-D Arrays"
      ],
      "metadata": {
        "id": "rLeBKo4cOwNA"
      }
    },
    {
      "cell_type": "markdown",
      "source": [
        "To access elements from 3-D arrays we can use comma separated integers representing the dimensions and the index of the element."
      ],
      "metadata": {
        "id": "tofVReusO1CH"
      }
    },
    {
      "cell_type": "code",
      "source": [
        "arr = np.array([[[1, 2, 3], [4, 5, 6]], [[7, 8, 9], [10, 11, 12]]])\n",
        "\n",
        "print(arr[0, 1, 2])"
      ],
      "metadata": {
        "colab": {
          "base_uri": "https://localhost:8080/"
        },
        "id": "PXr5crSaOuBX",
        "outputId": "4e00237f-5231-4857-bf35-5f6de8399496"
      },
      "execution_count": null,
      "outputs": [
        {
          "output_type": "stream",
          "name": "stdout",
          "text": [
            "6\n"
          ]
        }
      ]
    },
    {
      "cell_type": "markdown",
      "source": [
        "arr[0, 1, 2] prints the value 6.\n",
        "\n",
        "And this is why:\n",
        "\n",
        "The first number represents the first dimension, which contains two arrays:\n",
        "\n",
        "[[1, 2, 3], [4, 5, 6]]\n",
        "\n",
        "and:\n",
        "\n",
        "[[7, 8, 9], [10, 11, 12]]\n",
        "\n",
        "Since we selected 0, we are left with the first array: \n",
        "[[1, 2, 3], [4, 5, 6]]\n",
        "\n",
        "The second number represents the second dimension, which also contains two arrays:\n",
        "[1, 2, 3] \n",
        "and:\n",
        "[4, 5, 6]\n",
        "\n",
        "Since we selected 1, we are left with the second array:\n",
        "[4, 5, 6]\n",
        "\n",
        "The third number represents the third dimension, which contains three values:\n",
        "\n",
        "4\n",
        "\n",
        "5\n",
        "\n",
        "6\n",
        "\n",
        "Since we selected 2, we end up with the third value: \n",
        "6"
      ],
      "metadata": {
        "id": "1_YVi_QyO_5n"
      }
    },
    {
      "cell_type": "markdown",
      "source": [
        "# **Negative Indexing**"
      ],
      "metadata": {
        "id": "Syn2llxRPy8W"
      }
    },
    {
      "cell_type": "markdown",
      "source": [
        "Use negative indexing to access an array from the end."
      ],
      "metadata": {
        "id": "Nmbdmo_WP3ve"
      }
    },
    {
      "cell_type": "code",
      "source": [
        "arr = np.array([[1,2,3,4,5], [6,7,8,9,10]])\n",
        "\n",
        "print('Last element from 2nd dim: ', arr[1, -1])"
      ],
      "metadata": {
        "colab": {
          "base_uri": "https://localhost:8080/"
        },
        "id": "CkUr9P7pO4-X",
        "outputId": "477919ac-bf2f-4c27-9c35-484396785fea"
      },
      "execution_count": null,
      "outputs": [
        {
          "output_type": "stream",
          "name": "stdout",
          "text": [
            "Last element from 2nd dim:  10\n"
          ]
        }
      ]
    },
    {
      "cell_type": "markdown",
      "source": [
        "# **NumPy Array Slicing**"
      ],
      "metadata": {
        "id": "H-pvQab0Q6Y_"
      }
    },
    {
      "cell_type": "markdown",
      "source": [
        "# Slicing arrays\n",
        "\n",
        "Slicing an array in Python means selecting a portion of an array by specifying the starting and ending indices of the portion to be selected.\n",
        "\n",
        "\n",
        "```\n",
        "new_array = old_array[start:end]\n",
        "```\n",
        "Here, start is the starting index of the portion to be selected and end is the ending index (exclusive) of the portion to be selected. The selected portion of the array is returned as a new array.\n",
        "\n",
        "\n"
      ],
      "metadata": {
        "id": "rOCUJyZIQ8jW"
      }
    },
    {
      "cell_type": "code",
      "source": [
        "arr = np.array([1, 2, 3, 4, 5, 6, 7])\n",
        "\n",
        "print(arr[1:5])"
      ],
      "metadata": {
        "colab": {
          "base_uri": "https://localhost:8080/"
        },
        "id": "XfWfiZBZQXun",
        "outputId": "815bea03-eadb-41ad-cdd8-bbafc46ee0cf"
      },
      "execution_count": 69,
      "outputs": [
        {
          "output_type": "stream",
          "name": "stdout",
          "text": [
            "[2 3 4 5]\n"
          ]
        }
      ]
    },
    {
      "cell_type": "code",
      "source": [
        "arr[4:]"
      ],
      "metadata": {
        "colab": {
          "base_uri": "https://localhost:8080/"
        },
        "id": "kyS9ydm8RFgC",
        "outputId": "2ab85cd8-5ca5-4b4a-d564-d0370903cf65"
      },
      "execution_count": 70,
      "outputs": [
        {
          "output_type": "execute_result",
          "data": {
            "text/plain": [
              "array([5, 6, 7])"
            ]
          },
          "metadata": {},
          "execution_count": 70
        }
      ]
    },
    {
      "cell_type": "code",
      "source": [
        "arr[:4]"
      ],
      "metadata": {
        "colab": {
          "base_uri": "https://localhost:8080/"
        },
        "id": "Hl9hjYCHRJ7-",
        "outputId": "6bc290e9-eb0d-4d06-e58e-57d3365bbe5d"
      },
      "execution_count": 71,
      "outputs": [
        {
          "output_type": "execute_result",
          "data": {
            "text/plain": [
              "array([1, 2, 3, 4])"
            ]
          },
          "metadata": {},
          "execution_count": 71
        }
      ]
    },
    {
      "cell_type": "code",
      "source": [
        "arr[-3:-1]"
      ],
      "metadata": {
        "id": "xY-t1TE5RMG_",
        "outputId": "d9312bd4-991d-41e1-a5f7-ebfa6bb158cf",
        "colab": {
          "base_uri": "https://localhost:8080/"
        }
      },
      "execution_count": 72,
      "outputs": [
        {
          "output_type": "execute_result",
          "data": {
            "text/plain": [
              "array([5, 6])"
            ]
          },
          "metadata": {},
          "execution_count": 72
        }
      ]
    },
    {
      "cell_type": "markdown",
      "source": [
        "# STEP\n",
        "\n",
        "Use the step value to determine the step of the slicing:"
      ],
      "metadata": {
        "id": "AQ3M80zaqRFQ"
      }
    },
    {
      "cell_type": "markdown",
      "source": [
        "Return every other element from index 1 to index 5:"
      ],
      "metadata": {
        "id": "H56AOxifqVmX"
      }
    },
    {
      "cell_type": "code",
      "source": [
        "arr[1:6:2]"
      ],
      "metadata": {
        "id": "UbpPJGcURO8X",
        "colab": {
          "base_uri": "https://localhost:8080/"
        },
        "outputId": "3a9e8a2b-1da3-4fda-dac4-45b3796e65de"
      },
      "execution_count": 75,
      "outputs": [
        {
          "output_type": "execute_result",
          "data": {
            "text/plain": [
              "array([2, 4, 6])"
            ]
          },
          "metadata": {},
          "execution_count": 75
        }
      ]
    },
    {
      "cell_type": "markdown",
      "source": [
        "Return every other element from the entire array:"
      ],
      "metadata": {
        "id": "o-WJDi_tq7te"
      }
    },
    {
      "cell_type": "code",
      "source": [
        "arr[::2]"
      ],
      "metadata": {
        "colab": {
          "base_uri": "https://localhost:8080/"
        },
        "id": "k868zSpEp_8J",
        "outputId": "02bdabdb-6585-4c5a-f87a-e4da06cbee3f"
      },
      "execution_count": 76,
      "outputs": [
        {
          "output_type": "execute_result",
          "data": {
            "text/plain": [
              "array([1, 3, 5, 7])"
            ]
          },
          "metadata": {},
          "execution_count": 76
        }
      ]
    },
    {
      "cell_type": "markdown",
      "source": [
        "# Slicing 2-D Arrays"
      ],
      "metadata": {
        "id": "SBKCqKF1rCeG"
      }
    },
    {
      "cell_type": "markdown",
      "source": [
        "From the second element, slice elements from index 1 to index 4 (not included):"
      ],
      "metadata": {
        "id": "rIzSW0FjrJ6n"
      }
    },
    {
      "cell_type": "code",
      "source": [
        "arr = np.array([[1, 2, 3, 4, 5], [6, 7, 8, 9, 10]])\n",
        "arr[1, 1:4]"
      ],
      "metadata": {
        "colab": {
          "base_uri": "https://localhost:8080/"
        },
        "id": "3jhmUAbkq-v3",
        "outputId": "fdab86c6-c49f-4d28-c846-6440eb4b590d"
      },
      "execution_count": 77,
      "outputs": [
        {
          "output_type": "execute_result",
          "data": {
            "text/plain": [
              "array([7, 8, 9])"
            ]
          },
          "metadata": {},
          "execution_count": 77
        }
      ]
    },
    {
      "cell_type": "markdown",
      "source": [
        "From both elements, return index 2:"
      ],
      "metadata": {
        "id": "piLwLZKjuKMn"
      }
    },
    {
      "cell_type": "code",
      "source": [
        "arr[0:2, 2]"
      ],
      "metadata": {
        "id": "Zur-4iFxrRBn"
      },
      "execution_count": null,
      "outputs": []
    },
    {
      "cell_type": "markdown",
      "source": [
        "From both elements, slice index 1 to index 4 (not included), this will return a 2-D array:"
      ],
      "metadata": {
        "id": "HQL_jMVVvPkG"
      }
    },
    {
      "cell_type": "code",
      "source": [
        "print(arr[0:2, 1:4])"
      ],
      "metadata": {
        "id": "ippEYHlLraXP"
      },
      "execution_count": null,
      "outputs": []
    },
    {
      "cell_type": "markdown",
      "source": [
        "# **Data Types in NumPy**"
      ],
      "metadata": {
        "id": "uVMx31RqwXEm"
      }
    },
    {
      "cell_type": "markdown",
      "source": [
        "NumPy has some extra data types, and refer to data types with one character, like i for integers, u for unsigned integers etc.\n",
        "\n",
        "Below is a list of all data types in NumPy and the characters used to represent them.\n",
        "\n",
        "i - integer\n",
        "\n",
        "b - boolean\n",
        "\n",
        "u - unsigned integer\n",
        "\n",
        "f - float\n",
        "\n",
        "c - complex float\n",
        "\n",
        "m - timedelta\n",
        "\n",
        "M - datetime\n",
        "\n",
        "O - object\n",
        "\n",
        "S - string\n",
        "\n",
        "U - unicode string\n",
        "\n",
        "V - fixed chunk of memory for other type ( void )"
      ],
      "metadata": {
        "id": "i8zsi-TEwnO_"
      }
    },
    {
      "cell_type": "markdown",
      "source": [
        "# Checking the Data Type of an Array\n",
        "\n",
        "The NumPy array object has a property called dtype that returns the data type of the array:\n"
      ],
      "metadata": {
        "id": "gYxlwCi9vfve"
      }
    },
    {
      "cell_type": "code",
      "source": [
        "arr = np.array([1, 2, 3, 4])"
      ],
      "metadata": {
        "id": "1-I4IS3cvRrf"
      },
      "execution_count": null,
      "outputs": []
    },
    {
      "cell_type": "code",
      "source": [
        "arr.dtype"
      ],
      "metadata": {
        "colab": {
          "base_uri": "https://localhost:8080/"
        },
        "id": "-Wgdcdzvv07X",
        "outputId": "1d6ac54c-6389-453c-c925-40706ef040d8"
      },
      "execution_count": null,
      "outputs": [
        {
          "output_type": "execute_result",
          "data": {
            "text/plain": [
              "dtype('int64')"
            ]
          },
          "metadata": {},
          "execution_count": 33
        }
      ]
    },
    {
      "cell_type": "code",
      "source": [
        "arr = np.array(['apple', 'banana', 'cherry'])\n",
        "arr.dtype"
      ],
      "metadata": {
        "colab": {
          "base_uri": "https://localhost:8080/"
        },
        "id": "2d1Hp85qv2gO",
        "outputId": "3aad6517-cb11-485f-b2bf-445665702fd4"
      },
      "execution_count": null,
      "outputs": [
        {
          "output_type": "execute_result",
          "data": {
            "text/plain": [
              "dtype('<U6')"
            ]
          },
          "metadata": {},
          "execution_count": 34
        }
      ]
    },
    {
      "cell_type": "markdown",
      "source": [
        "# Creating Arrays With a Defined Data Type"
      ],
      "metadata": {
        "id": "3a1nhFk-wGb-"
      }
    },
    {
      "cell_type": "code",
      "source": [
        "arr = np.array([1, 2, 3, 4], dtype='S')\n",
        "arr.dtype"
      ],
      "metadata": {
        "colab": {
          "base_uri": "https://localhost:8080/"
        },
        "id": "50d2QroSv6sP",
        "outputId": "b5f4394f-229b-4084-b29a-8edb5c504440"
      },
      "execution_count": null,
      "outputs": [
        {
          "output_type": "execute_result",
          "data": {
            "text/plain": [
              "dtype('S1')"
            ]
          },
          "metadata": {},
          "execution_count": 35
        }
      ]
    },
    {
      "cell_type": "markdown",
      "source": [
        "# **Shape of an Array**"
      ],
      "metadata": {
        "id": "fDy7uisC8-h_"
      }
    },
    {
      "cell_type": "markdown",
      "source": [
        "The shape of an array is the number of elements in each dimension."
      ],
      "metadata": {
        "id": "Dpwzyzbe3c-g"
      }
    },
    {
      "cell_type": "code",
      "source": [
        "arr = np.array([[1, 2, 3, 4], [5, 6, 7, 8]])\n",
        "arr.shape"
      ],
      "metadata": {
        "colab": {
          "base_uri": "https://localhost:8080/"
        },
        "id": "RJcDg_j6xA6f",
        "outputId": "01ab8b2c-c34f-4de9-dfa0-aa81336db59f"
      },
      "execution_count": null,
      "outputs": [
        {
          "output_type": "execute_result",
          "data": {
            "text/plain": [
              "(2, 4)"
            ]
          },
          "metadata": {},
          "execution_count": 37
        }
      ]
    },
    {
      "cell_type": "code",
      "source": [
        "arr = np.array([1, 2, 3, 4], ndmin=5)\n",
        "arr.shape\n",
        "\n"
      ],
      "metadata": {
        "colab": {
          "base_uri": "https://localhost:8080/"
        },
        "id": "FgMUcZcv3g0F",
        "outputId": "5f4d8fd7-ef79-4ddb-b782-affea2022e8d"
      },
      "execution_count": null,
      "outputs": [
        {
          "output_type": "execute_result",
          "data": {
            "text/plain": [
              "(1, 1, 1, 1, 4)"
            ]
          },
          "metadata": {},
          "execution_count": 39
        }
      ]
    },
    {
      "cell_type": "code",
      "source": [
        "print(arr)"
      ],
      "metadata": {
        "colab": {
          "base_uri": "https://localhost:8080/"
        },
        "id": "AECzGoUK3yOb",
        "outputId": "a6aeb604-994f-4781-9ed6-8097d931cf94"
      },
      "execution_count": null,
      "outputs": [
        {
          "output_type": "stream",
          "name": "stdout",
          "text": [
            "[[[[[1 2 3 4]]]]]\n"
          ]
        }
      ]
    },
    {
      "cell_type": "markdown",
      "source": [
        "# Reshape From 1-D to 2-D"
      ],
      "metadata": {
        "id": "-JRi8gpf4OnQ"
      }
    },
    {
      "cell_type": "markdown",
      "source": [
        "Convert 1-D array with 12 elements into a 2-D array with 4 arrays, each containing 3 elements in the outermost dimension."
      ],
      "metadata": {
        "id": "33z1HoJn4um_"
      }
    },
    {
      "cell_type": "code",
      "source": [
        "arr = np.array([1, 2, 3, 4, 5, 6, 7, 8, 9, 10, 11, 12])\n",
        "\n",
        "newarr = arr.reshape(4, 3)\n",
        "\n",
        "newarr"
      ],
      "metadata": {
        "colab": {
          "base_uri": "https://localhost:8080/"
        },
        "id": "KclDplyD36G0",
        "outputId": "acbcdfad-2084-4859-c15a-064f1e238d21"
      },
      "execution_count": 82,
      "outputs": [
        {
          "output_type": "execute_result",
          "data": {
            "text/plain": [
              "array([[ 1,  2,  3],\n",
              "       [ 4,  5,  6],\n",
              "       [ 7,  8,  9],\n",
              "       [10, 11, 12]])"
            ]
          },
          "metadata": {},
          "execution_count": 82
        }
      ]
    },
    {
      "cell_type": "code",
      "source": [
        "newarr= arr.reshape(2,6)\n",
        "newarr"
      ],
      "metadata": {
        "colab": {
          "base_uri": "https://localhost:8080/"
        },
        "id": "p0CTUqBR6Ax_",
        "outputId": "47d52d2d-04cf-43eb-94fc-194a53af0bb2"
      },
      "execution_count": null,
      "outputs": [
        {
          "output_type": "execute_result",
          "data": {
            "text/plain": [
              "array([[ 1,  2,  3,  4,  5,  6],\n",
              "       [ 7,  8,  9, 10, 11, 12]])"
            ]
          },
          "metadata": {},
          "execution_count": 54
        }
      ]
    },
    {
      "cell_type": "markdown",
      "source": [
        "Do it by yourself:\n",
        "\n",
        "Reshape From 1-D to 3-D"
      ],
      "metadata": {
        "id": "1OrO4SH45PAf"
      }
    },
    {
      "cell_type": "code",
      "source": [
        "newarr = arr.reshape(2,2,3)\n",
        "newarr"
      ],
      "metadata": {
        "id": "7i8kNgA24Thi",
        "colab": {
          "base_uri": "https://localhost:8080/"
        },
        "outputId": "64a2746c-b822-428a-a2aa-b344ce1f46e8"
      },
      "execution_count": 87,
      "outputs": [
        {
          "output_type": "execute_result",
          "data": {
            "text/plain": [
              "array([[[ 1,  2,  3],\n",
              "        [ 4,  5,  6]],\n",
              "\n",
              "       [[ 7,  8,  9],\n",
              "        [10, 11, 12]]])"
            ]
          },
          "metadata": {},
          "execution_count": 87
        }
      ]
    },
    {
      "cell_type": "markdown",
      "source": [
        "# Iterating Arrays"
      ],
      "metadata": {
        "id": "aup-aNE_Ipxd"
      }
    },
    {
      "cell_type": "markdown",
      "source": [
        "If we iterate on a 1-D array it will go through each element one by one."
      ],
      "metadata": {
        "id": "O0RDWw_rIrze"
      }
    },
    {
      "cell_type": "code",
      "source": [
        "arr = np.array([1, 2, 3])\n",
        "\n",
        "for x in arr:\n",
        "  print(x)"
      ],
      "metadata": {
        "colab": {
          "base_uri": "https://localhost:8080/"
        },
        "id": "Ro3-qyqI5YJk",
        "outputId": "cecab081-8325-4907-f25e-8127cc89a91d"
      },
      "execution_count": null,
      "outputs": [
        {
          "output_type": "stream",
          "name": "stdout",
          "text": [
            "1\n",
            "2\n",
            "3\n"
          ]
        }
      ]
    },
    {
      "cell_type": "code",
      "source": [
        "arr = np.array([[1,2,3], [4, 5, 6]])\n",
        "\n",
        "for x in arr:\n",
        "  print(x)"
      ],
      "metadata": {
        "id": "RQ4EIwEVIziU",
        "colab": {
          "base_uri": "https://localhost:8080/"
        },
        "outputId": "830c10dc-a5cd-4f23-e9cd-14b4c1f12ffa"
      },
      "execution_count": 91,
      "outputs": [
        {
          "output_type": "stream",
          "name": "stdout",
          "text": [
            "[1 2 3]\n",
            "[4 5 6]\n"
          ]
        }
      ]
    },
    {
      "cell_type": "code",
      "source": [
        "\n",
        "arr = np.array([[1, 2, 3], [4, 5, 6]])\n",
        "\n",
        "for x in arr:\n",
        "  for y in x:\n",
        "    print(y)"
      ],
      "metadata": {
        "id": "-OjgE6q0I11N",
        "colab": {
          "base_uri": "https://localhost:8080/"
        },
        "outputId": "47c7cd7e-b4e4-4a60-a1ef-a3ddc07bcbe6"
      },
      "execution_count": 89,
      "outputs": [
        {
          "output_type": "stream",
          "name": "stdout",
          "text": [
            "1\n",
            "2\n",
            "3\n",
            "4\n",
            "5\n",
            "6\n"
          ]
        }
      ]
    },
    {
      "cell_type": "markdown",
      "source": [
        "# Splitting NumPy Arrays"
      ],
      "metadata": {
        "id": "A580VOhkJJzN"
      }
    },
    {
      "cell_type": "markdown",
      "source": [
        "Splitting is reverse operation of Joining.\n",
        "\n",
        "Joining merges multiple arrays into one and Splitting breaks one array into multiple.\n",
        "\n",
        "We use array_split() for splitting arrays, we pass it the array we want to split and the number of splits."
      ],
      "metadata": {
        "id": "n3QMe33tJYEl"
      }
    },
    {
      "cell_type": "code",
      "source": [
        "arr = np.array([1, 2, 3, 4, 5, 6])\n",
        "\n",
        "newarr = np.array_split(arr, 3)\n",
        "\n",
        "print(newarr)"
      ],
      "metadata": {
        "colab": {
          "base_uri": "https://localhost:8080/"
        },
        "id": "c8zuAUzVI4p2",
        "outputId": "a5779d88-83b7-48a1-f5cd-114c9baba490"
      },
      "execution_count": null,
      "outputs": [
        {
          "output_type": "stream",
          "name": "stdout",
          "text": [
            "[array([1, 2]), array([3, 4]), array([5, 6])]\n"
          ]
        }
      ]
    },
    {
      "cell_type": "code",
      "source": [
        "arr = np.array([[1, 2], [3, 4], [5, 6], [7, 8], [9, 10], [11, 12]])\n",
        "\n",
        "newarr = np.array_split(arr, 3)\n",
        "\n",
        "newarr"
      ],
      "metadata": {
        "id": "Xu9EQ4tRJesX",
        "colab": {
          "base_uri": "https://localhost:8080/"
        },
        "outputId": "0c5e7a48-d776-4932-edb7-8b99c38a451c"
      },
      "execution_count": 92,
      "outputs": [
        {
          "output_type": "execute_result",
          "data": {
            "text/plain": [
              "[array([[1, 2],\n",
              "        [3, 4]]),\n",
              " array([[5, 6],\n",
              "        [7, 8]]),\n",
              " array([[ 9, 10],\n",
              "        [11, 12]])]"
            ]
          },
          "metadata": {},
          "execution_count": 92
        }
      ]
    },
    {
      "cell_type": "code",
      "source": [
        "arr=[4,56,81,741,6451,62,6]\n",
        "arr.sort()"
      ],
      "metadata": {
        "id": "wLLNaYNJLErj"
      },
      "execution_count": 94,
      "outputs": []
    },
    {
      "cell_type": "code",
      "source": [
        "arr"
      ],
      "metadata": {
        "colab": {
          "base_uri": "https://localhost:8080/"
        },
        "id": "rel_CLBNnxPH",
        "outputId": "4adf3b75-6ac2-4098-b756-f03094f243b3"
      },
      "execution_count": 95,
      "outputs": [
        {
          "output_type": "execute_result",
          "data": {
            "text/plain": [
              "[4, 6, 56, 62, 81, 741, 6451]"
            ]
          },
          "metadata": {},
          "execution_count": 95
        }
      ]
    },
    {
      "cell_type": "code",
      "source": [],
      "metadata": {
        "id": "cKEnYu2On0GP"
      },
      "execution_count": null,
      "outputs": []
    }
  ]
}